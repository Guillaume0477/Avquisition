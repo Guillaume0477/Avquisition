{
 "metadata": {
  "language_info": {
   "codemirror_mode": {
    "name": "ipython",
    "version": 3
   },
   "file_extension": ".py",
   "mimetype": "text/x-python",
   "name": "python",
   "nbconvert_exporter": "python",
   "pygments_lexer": "ipython3",
   "version": "3.6.3-final"
  },
  "orig_nbformat": 2,
  "kernelspec": {
   "name": "Python 3.6.3 64-bit",
   "display_name": "Python 3.6.3 64-bit",
   "metadata": {
    "interpreter": {
     "hash": "9ba99336f874e51e35a01030b0cf10bb63f6e2ab9f4eee9a88f20e87a59de83e"
    }
   }
  }
 },
 "nbformat": 4,
 "nbformat_minor": 2,
 "cells": [
  {
   "cell_type": "code",
   "execution_count": 1,
   "metadata": {},
   "outputs": [],
   "source": [
    "import numpy as np\n",
    "import cv2\n",
    "from matplotlib import pyplot as plt\n",
    "cap = cv2.VideoCapture(0)\n",
    "while(True):\n",
    "    ret, frame = cap.read() #1 frame acquise à chaque iteration\n",
    "    gray = cv2.cvtColor(frame, cv2.COLOR_BGR2GRAY) #conversion en n&b\n",
    "    cv2.imshow('Capture_Video', gray) #affichage\n",
    "    key = cv2.waitKey(1) #on évalue la touche pressée\n",
    "    if key & 0xFF == ord('q'): #si appui sur'q'\n",
    "        break #sortie de la boucle while\n",
    "cap.release()\n",
    "cv2.destroyAllWindows()"
   ]
  },
  {
   "cell_type": "code",
   "execution_count": null,
   "metadata": {},
   "outputs": [],
   "source": []
  }
 ]
}